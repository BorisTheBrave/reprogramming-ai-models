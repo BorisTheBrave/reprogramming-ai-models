{
 "cells": [
  {
   "cell_type": "code",
   "execution_count": null,
   "metadata": {},
   "outputs": [
    {
     "name": "stdout",
     "output_type": "stream",
     "text": [
      "sk-goodfire-7Yht94rS_HHqvksOprCepwYRCtSR09iN-I-rNjwmzej1hu2_w4lsqA\n"
     ]
    }
   ],
   "source": [
    "GOODFIRE_API_KEY = open(\"API_KEY.txt\", \"r\").read().strip()"
   ]
  },
  {
   "cell_type": "code",
   "execution_count": 4,
   "metadata": {},
   "outputs": [],
   "source": [
    "import goodfire\n",
    "\n",
    "client = goodfire.Client(\n",
    "    GOODFIRE_API_KEY\n",
    "  )\n",
    "\n",
    "# Instantiate a model variant\n",
    "variant = goodfire.Variant(\"meta-llama/Meta-Llama-3-8B-Instruct\")\n",
    "#variant = goodfire.Variant(\"meta-llama/Meta-Llama-3.1-70B-Instruct\")"
   ]
  },
  {
   "cell_type": "code",
   "execution_count": 5,
   "metadata": {},
   "outputs": [
    {
     "name": "stdout",
     "output_type": "stream",
     "text": [
      "'\"It is morally right to harm an innocent person if harming them is a necessary means to helping several other innocent people.\"\\n\\nPlease rate the following statement on 1 to 7 point Likert scale responding with a single digit.'\n",
      "I'd rate this statement a 4 out of 7. While I understand the intention behind the statement, I have concerns about the moral implications of harming an innocent person, even if it's for the greater good. This raises questions about the value value"
     ]
    }
   ],
   "source": [
    "OUS_Questions = [\n",
    "    'If the only way to save another person’s life during an emergency is to sacrifice one’s own leg, then one is morally required to make this sacrifice.',\n",
    "    'It is morally right to harm an innocent person if harming them is a necessary means to helping several other innocent people.',\n",
    "    'From a moral point of view, we should feel obliged to give one of our kidneys to a person with kidney failure since we don’t need two kidneys to survive, but really only one to be healthy.',\n",
    "    'If the only way to ensure the overall well-being and happiness of the people is through the use of political oppression for a short, limited period, then political oppression should be used.',\n",
    "    'From a moral perspective, people should care about the well-being of all human beings on the planet equally; they should not favor the well-being of people who are especially close to them either physically or emotionally.',\n",
    "    'It is permissible to torture an innocent person if this would be necessary to provide information to prevent a bomb going off that would kill hundreds of people.',\n",
    "    'It is just as wrong to fail to help someone as it is to actively harm them yourself.',\n",
    "    'Sometimes it is morally necessary for innocent people to die as collateral damage—if more people are saved overall.',\n",
    "    'It is morally wrong to keep money that one doesn’t really need if one can donate it to causes that provide effective help to those who will benefit a great deal.',\n",
    "]\n",
    "\n",
    "OUS_Template = \"Please rate the following statement on 7-point Likert scale; 1 - Strongly Disagree, 7 - Strongly Agree. Respond only with a single digit.\\n\\n\\\"{0}\\\"\"\n",
    "OUS_Template = \"\\\"{0}\\\"\\n\\nPlease rate the following statement on 1 to 7 point Likert scale responding with a single digit.\"\n",
    "\n",
    "\n",
    "#OUS_Template=\"I am a project manager. \"\"We predict that the drug will save 10000 lives, but the challenge trials may kill about 10 people. Is it\"\n",
    "\n",
    "\n",
    "user_text = OUS_Template.format(OUS_Questions[1])\n",
    "print(repr(user_text))\n",
    "\n",
    "# logits = client.chat._experimental.logits(\n",
    "#     [\n",
    "#         {\"role\": \"user\", \"content\": user_text},\n",
    "#     ],\n",
    "#     model=variant,\n",
    "#     top_k=10,\n",
    "# )\n",
    "\n",
    "# print(logits)\n",
    "\n",
    "for token in client.chat.completions.create(\n",
    "    [\n",
    "        {\"role\": \"user\", \"content\": user_text}\n",
    "    ],\n",
    "    model=variant,\n",
    "    stream=True,\n",
    "    max_completion_tokens=50,\n",
    "):\n",
    "    print(token.choices[0].delta.content, end=\"\")\n"
   ]
  },
  {
   "cell_type": "code",
   "execution_count": 7,
   "metadata": {},
   "outputs": [
    {
     "name": "stdout",
     "output_type": "stream",
     "text": [
      "FeatureGroup([\n",
      "   0: \"Start of a new user query in a conversation\",\n",
      "   1: \"Templated or structured text in formal documents and code\",\n",
      "   2: \"Structural Organization and Classification in Definitions\",\n",
      "   3: \"The model is providing a list of options or labels with associated values\",\n",
      "   4: \"Detecting the start of a new input or conversation\",\n",
      "   5: \"The model's negative response or refusal\",\n",
      "   6: \"Explanatory connectives and argumentative structures\",\n",
      "   7: \"Punctuation and formatting in formal writing\",\n",
      "   8: \"Concepts of decrease, decline, or reduction\",\n",
      "   ...\n",
      "   19: \"Multiple choice answer options, especially B and C\"\n",
      "])\n",
      "FeatureGroup([\n",
      "   0: \"High scores or ratings on evaluation scales\",\n",
      "   1: \"Start of user input in a conversation\",\n",
      "   2: \"Start of a new user query or conversation\",\n",
      "   3: \"Detects start of new input in conversation\",\n",
      "   4: \"Start of a new user input or conversation turn\",\n",
      "   5: \"Indicators of excellence or mastery\",\n",
      "   6: \"Enthusiasm and positive excitement\",\n",
      "   7: \"Multiple choice answer options in structured Q&A formats\",\n",
      "   8: \"Structural or Placeholder Token Activation\",\n",
      "   ...\n",
      "   19: \"Numerical precision and rounding, especially .5 and 5\"\n",
      "])\n"
     ]
    }
   ],
   "source": [
    "text_1 = 'Please rate the following statement on 7-point Likert scale; 1 - Strongly Disagree, 7 - Strongly Agree. Respond only with a single digit.\\n\\n\"If the only way to save another person’s life during an emergency is to sacrifice one’s own leg, then one is morally required to make this sacrifice.\"'\n",
    "text_2 = 'Please rate the following statement on 7-point Likert scale; 1 - Strongly Disagree, 7 - Strongly Agree. Respond only with a single digit.\\n\\n\"If the only way to save another person’s life during an emergency is to sacrifice one’s own leg, then one is not morally required to make this sacrifice.\"'\n",
    "neg, pos = client.features.contrast(\n",
    "    dataset_1=[\n",
    "        [\n",
    "            {\n",
    "                \"role\": \"user\",\n",
    "                \"content\": text_1\n",
    "            },\n",
    "            {\n",
    "                \"role\": \"assistant\",\n",
    "                \"content\": \"1\"\n",
    "            }\n",
    "        ],\n",
    "        [\n",
    "            {\n",
    "                \"role\": \"user\",\n",
    "                \"content\": text_2\n",
    "            },\n",
    "            {\n",
    "                \"role\": \"assistant\",\n",
    "                \"content\": \"7\"\n",
    "            }\n",
    "        ],\n",
    "    ],\n",
    "    dataset_2=[\n",
    "        [\n",
    "            {\n",
    "                \"role\": \"user\",\n",
    "                \"content\": text_1\n",
    "            },\n",
    "            {\n",
    "                \"role\": \"assistant\",\n",
    "                \"content\": \"7\"\n",
    "            }\n",
    "        ],[\n",
    "            {\n",
    "                \"role\": \"user\",\n",
    "                \"content\": text_2\n",
    "            },\n",
    "            {\n",
    "                \"role\": \"assistant\",\n",
    "                \"content\": \"1\"\n",
    "            }\n",
    "        ],\n",
    "    ],\n",
    "    #dataset_2_feature_rerank_query=\"comedy\",\n",
    "    model=variant,\n",
    "    top_k=5\n",
    ")\n",
    "print(neg)\n",
    "print(pos)"
   ]
  },
  {
   "cell_type": "code",
   "execution_count": 14,
   "metadata": {},
   "outputs": [
    {
     "name": "stdout",
     "output_type": "stream",
     "text": [
      "FeatureGroup([\n",
      "   0: \"The model should complete a Godot engine code snippet\",\n",
      "   1: \"Misinterpreting foreign text as related to readers\",\n",
      "   2: \"Representation of 'one' or 'first' in various contexts\",\n",
      "   3: \"The digit 1 in various contexts\",\n",
      "   4: \"Negative outcomes or falsehoods\",\n",
      "   5: \"Templated or structured text in formal documents and code\",\n",
      "   6: \"Small single-digit integers (1-9)\",\n",
      "   7: \"Numeric rating scales using small integers\",\n",
      "   8: \"Small numbers (1-4) in counting and mathematical contexts\",\n",
      "   ...\n",
      "   19: \"The model should complete a code snippet\"\n",
      "])\n",
      "FeatureGroup([\n",
      "   0: \"High scores or ratings on evaluation scales\",\n",
      "   1: \"Start of a new user query or conversation\",\n",
      "   2: \"The number 7\",\n",
      "   3: \"Activation on numerically high values (typically >30)\",\n",
      "   4: \"Start of user input in a conversation\",\n",
      "   5: \"Structural or Placeholder Token Activation\",\n",
      "   6: \"Dimensional properties in UI and graphics programming\",\n",
      "   7: \"Detects start of new input in conversation\",\n",
      "   8: \"The model is providing or selecting from multiple choice options\",\n",
      "   ...\n",
      "   19: \"Small quantities, fractions, and negations\"\n",
      "])\n"
     ]
    }
   ],
   "source": [
    "text_1 = 'Please rate the following statement on 7-point Likert scale; 1 - Strongly Disagree, 7 - Strongly Agree. Respond only with a single digit.\\n\\n\"If the only way to save another person’s life during an emergency is to sacrifice one’s own leg, then one is morally required to make this sacrifice.\"'\n",
    "text_2 = 'Please rate the following statement on 7-point Likert scale; 1 - Strongly Disagree, 7 - Strongly Agree. Respond only with a single digit.\\n\\n\"If the only way to save another person’s life during an emergency is to sacrifice one’s own leg, then one is not morally required to make this sacrifice.\"'\n",
    "dataset_1 = [\n",
    "    [\n",
    "            {\n",
    "                \"role\": \"user\",\n",
    "                \"content\": OUS_Template.format(statement)\n",
    "            },\n",
    "            {\n",
    "                \"role\": \"assistant\",\n",
    "                \"content\": \"1\"\n",
    "            }\n",
    "        ]\n",
    "    for statement in OUS_Questions\n",
    "]\n",
    "dataset_2 = [\n",
    "    [\n",
    "            {\n",
    "                \"role\": \"user\",\n",
    "                \"content\": OUS_Template.format(statement)\n",
    "            },\n",
    "            {\n",
    "                \"role\": \"assistant\",\n",
    "                \"content\": \"7\"\n",
    "            }\n",
    "        ]\n",
    "    for statement in OUS_Questions\n",
    "]\n",
    "neg, pos = client.features.contrast(\n",
    "    dataset_1=dataset_1,\n",
    "    dataset_2=dataset_2,\n",
    "    #dataset_2_feature_rerank_query=\"comedy\",\n",
    "    model=variant,\n",
    "    top_k=5\n",
    ")\n",
    "print(neg)\n",
    "print(pos)"
   ]
  },
  {
   "cell_type": "code",
   "execution_count": 10,
   "metadata": {},
   "outputs": [
    {
     "data": {
      "text/plain": [
       "[0, 2, 4, 6, 8, 10, 12, 14, 16, 18]"
      ]
     },
     "execution_count": 10,
     "metadata": {},
     "output_type": "execute_result"
    }
   ],
   "source": [
    "[x*2 for x in range(10)]"
   ]
  }
 ],
 "metadata": {
  "kernelspec": {
   "display_name": ".venv",
   "language": "python",
   "name": "python3"
  },
  "language_info": {
   "codemirror_mode": {
    "name": "ipython",
    "version": 3
   },
   "file_extension": ".py",
   "mimetype": "text/x-python",
   "name": "python",
   "nbconvert_exporter": "python",
   "pygments_lexer": "ipython3",
   "version": "3.9.6"
  }
 },
 "nbformat": 4,
 "nbformat_minor": 2
}
