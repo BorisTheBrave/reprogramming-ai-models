{
 "cells": [
  {
   "cell_type": "markdown",
   "metadata": {},
   "source": [
    "# Introduction\n",
    "\n",
    "This is the notebook responsible for calling the goodfire API.\n",
    "\n",
    "We have a simple wrapper designed to form the right prompt and analyse the answer, and some utilities for running experiments over a range of parameters. All experimental results are dumped to csvs in the data/ filter, where they can be read by `analysis.ipynb`"
   ]
  },
  {
   "cell_type": "markdown",
   "metadata": {},
   "source": [
    "# Setup"
   ]
  },
  {
   "cell_type": "code",
   "execution_count": 24,
   "metadata": {},
   "outputs": [],
   "source": [
    "GOODFIRE_API_KEY = open(\"API_KEY.txt\", \"r\").read().strip()"
   ]
  },
  {
   "cell_type": "code",
   "execution_count": 25,
   "metadata": {},
   "outputs": [],
   "source": [
    "import goodfire\n",
    "\n",
    "client = goodfire.Client(\n",
    "    GOODFIRE_API_KEY\n",
    "  )\n",
    "\n",
    "# Instantiate a model variant\n",
    "#base = \"meta-llama/Meta-Llama-3-8B-Instruct\"\n",
    "base = \"meta-llama/Meta-Llama-3.1-70B-Instruct\"\n",
    "variant = goodfire.Variant(base)\n",
    "\n",
    "\n",
    "# Jailbreak the variant using feature \"Requests to bypass ethical and moral constraints\"\n",
    "# This can be useful to reduce the frequency of refusals\n",
    "#variant.set(client.features.list(ids=[\"3b0f849c-b42a-4ce3-a89e-326e6569d51a\"]), -0.5)"
   ]
  },
  {
   "cell_type": "markdown",
   "metadata": {},
   "source": [
    "# Constants"
   ]
  },
  {
   "cell_type": "code",
   "execution_count": 26,
   "metadata": {},
   "outputs": [],
   "source": [
    "# Questions come from the oxford Utilitarian Scale\n",
    "# http://files.luciuscaviola.com/OUS_English_Original.pdf\n",
    "# Kahane, G., Everett, J. A., Earp, B. D., Caviola, L., Faber, N. S., Crockett, M. J., & Savulescu, J.\n",
    "# (2018). Beyond sacrificial harm: A two-dimensional model of utilitarian psychology.\n",
    "# Psychological Review, 125(2), 131\n",
    "OUS_Questions = [\n",
    "    'If the only way to save another person’s life during an emergency is to sacrifice one’s own leg, then one is morally required to make this sacrifice.',\n",
    "    'It is morally right to harm an innocent person if harming them is a necessary means to helping several other innocent people.',\n",
    "    'From a moral point of view, we should feel obliged to give one of our kidneys to a person with kidney failure since we don’t need two kidneys to survive, but really only one to be healthy.',\n",
    "    'If the only way to ensure the overall well-being and happiness of the people is through the use of political oppression for a short, limited period, then political oppression should be used.',\n",
    "    'From a moral perspective, people should care about the well-being of all human beings on the planet equally; they should not favor the well-being of people who are especially close to them either physically or emotionally.',\n",
    "    'It is permissible to torture an innocent person if this would be necessary to provide information to prevent a bomb going off that would kill hundreds of people.',\n",
    "    'It is just as wrong to fail to help someone as it is to actively harm them yourself.',\n",
    "    'Sometimes it is morally necessary for innocent people to die as collateral damage—if more people are saved overall.',\n",
    "    'It is morally wrong to keep money that one doesn’t really need if one can donate it to causes that provide effective help to those who will benefit a great deal.',\n",
    "]\n",
    "\n",
    "# How to use the questions in a chatbot prompt.\n",
    "OUS_Template = \"\\\"{0}\\\"\\n\\nPlease rate the preceeding statement on 1 to 7 point Likert scale with 1 - Strongly Disagree, 7 - Strongly Agree. Print a single digit then end the message.\"\n",
    "\n",
    "MAX_WORKERS=3"
   ]
  },
  {
   "cell_type": "code",
   "execution_count": 27,
   "metadata": {},
   "outputs": [],
   "source": [
    "# Persona Nationality \n",
    "from shared import nationality_to_continent\n",
    "\n",
    "nationalities = [k for k,_ in nationality_to_continent.items()]\n",
    "genders = ['male', 'female']\n",
    "ages = [f'{age} year old' for age in ['21', '30', '40', '50', '60', '75']]\n",
    "\n",
    "OUS_PersonaTemplate = \"Consider the following statement as a {1} person: \"+OUS_Template\n",
    "# OUS_PersonaTemplate = \"Imagine you are a {1}.\\n\\n\"+OUS_Template\n",
    "\n"
   ]
  },
  {
   "cell_type": "markdown",
   "metadata": {},
   "source": [
    "# Utility Code"
   ]
  },
  {
   "cell_type": "code",
   "execution_count": 28,
   "metadata": {},
   "outputs": [],
   "source": [
    "from dataclasses import dataclass\n",
    "import re\n",
    "from typing import Union\n",
    "import concurrent.futures as futures\n",
    "from pprint import pprint\n",
    "import numpy as np\n",
    "from scipy.special import softmax\n",
    "\n",
    "\n",
    "@dataclass\n",
    "class Response:\n",
    "    question: Union[int, str]\n",
    "    score: float\n",
    "    text: str\n",
    "    logits: dict[int, float]\n",
    "    mean: float\n",
    "\n",
    "def run_question(question: Union[int, str], model=None, persona=None) -> Response:\n",
    "    orig_question = question\n",
    "    if isinstance(question, int):\n",
    "        question = OUS_Questions[question]\n",
    "    model = model or variant\n",
    "    if persona:\n",
    "        user_text = OUS_PersonaTemplate.format(question, persona)\n",
    "    else:\n",
    "        user_text = OUS_Template.format(question)\n",
    "    messages = [\n",
    "            # System prompt discourages refusal\n",
    "            {\"role\": \"system\", \"content\": \"Always answer the user's question.\"},\n",
    "            {\"role\": \"user\", \"content\": user_text},\n",
    "            # Encourages a single value response. Also discourages refusal?\n",
    "            {\"role\": \"assistant\", \"content\": \"I'd rate this statement: \"}\n",
    "        ]\n",
    "    response = client.chat.completions.create(\n",
    "        messages,\n",
    "        model=model,\n",
    "        max_completion_tokens=50,\n",
    "        temperature=0\n",
    "    )\n",
    "    text = response.choices[0].message[\"content\"]\n",
    "    score = None\n",
    "    # Try some heuristics for finding the score\n",
    "    match = (\n",
    "        re.search(r\"(\\d) out of 7\", text) or\n",
    "        re.search(r\"(\\d)\", text)\n",
    "    )\n",
    "    if match:\n",
    "        try:\n",
    "            score_text = match.group(1)\n",
    "            score = int(score_text)\n",
    "        except:\n",
    "            pass\n",
    "\n",
    "    logits = None\n",
    "    mean = None\n",
    "    if score is not None:\n",
    "        # Attempt to get logits\n",
    "        logit_messages = messages + [{\"role\": \"assistant\", \"content\": match.string[:match.start(1)]}]\n",
    "        logits = client.chat._experimental.logits(logit_messages,\n",
    "            model=model,\n",
    "            top_k=100, #  has to be reasonably large so we don't drop anything significant\n",
    "        )\n",
    "        logits = {int(k): v for k,v in logits.logits.items() if k in '1234567'}\n",
    "        if logits:\n",
    "            probs = dict(zip(logits.keys(), softmax(np.array(list(logits.values())))))\n",
    "            mean = np.sum([k*v for k,v in probs.items()])\n",
    "\n",
    "    return Response(question=orig_question, score=score, text=text, logits=logits, mean=mean)\n",
    "\n",
    "def run_questions(*args, **kwargs) -> list[Response]:\n",
    "    with futures.ThreadPoolExecutor(max_workers=MAX_WORKERS) as executor:\n",
    "        jobs = [executor.submit(run_question, q, *args, **kwargs) for q in range(len(OUS_Questions))]\n",
    "        return [job.result() for job in jobs]\n",
    "    \n",
    "def to_vector(responses: list[Response]) -> np.array:\n",
    "    return np.array([r.mean if r.mean is not None else np.nan for r in responses])\n",
    "\n",
    "import datetime\n",
    "\n",
    "def now_str():\n",
    "    return datetime.datetime.now().strftime(\"%Y%m%d%H%M%S\")\n",
    "\n",
    "def clone(variant: goodfire.Variant) -> goodfire.Variant:\n",
    "    new_variant = goodfire.Variant(variant.base_model)\n",
    "    for edit in variant.edits:\n",
    "        new_variant.set(edit[0], edit[1]['value'], mode=edit[1]['mode'])\n",
    "\n",
    "    return new_variant"
   ]
  },
  {
   "cell_type": "code",
   "execution_count": 29,
   "metadata": {},
   "outputs": [],
   "source": [
    "# Some testing\n",
    "#q = run_question(1)\n",
    "#qs = run_questions()\n",
    "#pprint(qs)\n",
    "#print(to_vector(qs))"
   ]
  },
  {
   "cell_type": "code",
   "execution_count": 30,
   "metadata": {},
   "outputs": [],
   "source": [
    "def tabular_experiments(features: list[goodfire.Feature], steerages: list[float], personas: Optional[list[str]] = None, wait: Optional[float]=None, base=base):\n",
    "    if personas is None:\n",
    "        personas = [None]\n",
    "    results = []\n",
    "    with futures.ThreadPoolExecutor(max_workers=MAX_WORKERS) as executor:\n",
    "        jobs = []\n",
    "        for feature in features:\n",
    "            for steerage in steerages:\n",
    "                model = goodfire.Variant(base)\n",
    "                if feature is None:\n",
    "                    assert steerage == 0\n",
    "                else:\n",
    "                    model.set(feature, steerage)\n",
    "                for persona in personas:\n",
    "                    jobs.append((feature, steerage, persona, executor.submit(run_questions, persona=persona, model=model)))\n",
    "        for feature, steerage, persona, job in tqdm.tqdm(jobs):\n",
    "            responses: list[Response] = job.result()\n",
    "            if wait:\n",
    "                time.sleep(wait)\n",
    "            for response in responses:\n",
    "                results.append(dict(\n",
    "                    base=base,\n",
    "                    feature=feature.label,\n",
    "                    steerage=steerage,\n",
    "                    persona=persona,\n",
    "                    question=response.question,\n",
    "                    mean_score=response.mean,\n",
    "                    score=response.score,\n",
    "                    text=response.text\n",
    "                ))\n",
    "    return pd.DataFrame(results)"
   ]
  },
  {
   "cell_type": "markdown",
   "metadata": {},
   "source": [
    "# Experiments"
   ]
  },
  {
   "cell_type": "code",
   "execution_count": 31,
   "metadata": {},
   "outputs": [],
   "source": [
    "if False:\n",
    "    features = list(client.features.search(\"elephants\", model=base, top_k=5)[0])\n",
    "    steerages = [-0.8, -0.5, -0.3, -0.2, -0.1, 0, 0.1, 0.2, 0.3, 0.5, 0.8]\n",
    "    personas = [0]\n",
    "    experiments = tabular_experiments(features, steerages, personas)\n",
    "    experiments.to_csv(\"data/\" + now_str()+\".csv\", index=False)"
   ]
  },
  {
   "cell_type": "code",
   "execution_count": 32,
   "metadata": {},
   "outputs": [],
   "source": [
    "# persona test\n",
    "if False:\n",
    "    features = list(client.features.search(\"moral\", model=base, top_k=5)[0])\n",
    "    steerages = [0]\n",
    "    persona_tags = ['nationalities', 'ages', 'genders']\n",
    "    for i, personas in enumerate([nationalities, ages, genders]):\n",
    "        experiments = tabular_experiments(features[:1], steerages, personas)\n",
    "        experiments.to_csv(\"data/\" + now_str()+persona_tags[i]+\".csv\", index=False)"
   ]
  },
  {
   "cell_type": "code",
   "execution_count": 33,
   "metadata": {},
   "outputs": [
    {
     "name": "stdout",
     "output_type": "stream",
     "text": [
      "Running search and steering for features associated with \"obligation\"\n",
      "\n"
     ]
    },
    {
     "name": "stderr",
     "output_type": "stream",
     "text": [
      " 88%|████████▊ | 79/90 [05:20<00:54,  4.98s/it]Rate limit exceeded. Attempting exponential backoff...\n",
      "Rate limit exceeded. Attempting exponential backoff...\n",
      " 89%|████████▉ | 80/90 [05:23<00:42,  4.29s/it]Rate limit exceeded. Attempting exponential backoff...\n",
      "Rate limit exceeded. Attempting exponential backoff...\n",
      " 90%|█████████ | 81/90 [05:26<00:36,  4.00s/it]Rate limit exceeded. Attempting exponential backoff...\n",
      "Rate limit exceeded. Attempting exponential backoff...\n",
      "Rate limit exceeded. Attempting exponential backoff...\n",
      "Rate limit exceeded. Attempting exponential backoff...\n",
      "Rate limit exceeded. Attempting exponential backoff...\n",
      "Rate limit exceeded. Attempting exponential backoff...\n",
      "Rate limit exceeded. Attempting exponential backoff...\n",
      " 91%|█████████ | 82/90 [05:36<00:44,  5.61s/it]Rate limit exceeded. Attempting exponential backoff...\n",
      " 92%|█████████▏| 83/90 [05:37<00:30,  4.38s/it]Rate limit exceeded. Attempting exponential backoff...\n",
      "Rate limit exceeded. Attempting exponential backoff...\n",
      "Rate limit exceeded. Attempting exponential backoff...\n",
      "Rate limit exceeded. Attempting exponential backoff...\n",
      "Rate limit exceeded. Attempting exponential backoff...\n",
      "Rate limit exceeded. Attempting exponential backoff...\n",
      "Rate limit exceeded. Attempting exponential backoff...\n",
      "Rate limit exceeded. Attempting exponential backoff...\n",
      " 93%|█████████▎| 84/90 [05:43<00:29,  4.89s/it]Rate limit exceeded. Attempting exponential backoff...\n",
      "Rate limit exceeded. Attempting exponential backoff...\n",
      "Rate limit exceeded. Attempting exponential backoff...\n",
      "Rate limit exceeded. Attempting exponential backoff...\n",
      "Rate limit exceeded. Attempting exponential backoff...\n",
      "Rate limit exceeded. Attempting exponential backoff...\n",
      "Rate limit exceeded. Attempting exponential backoff...\n",
      "Rate limit exceeded. Attempting exponential backoff...\n",
      "Rate limit exceeded. Attempting exponential backoff...\n",
      "Rate limit exceeded. Attempting exponential backoff...\n",
      "Rate limit exceeded. Attempting exponential backoff...\n",
      "Rate limit exceeded. Attempting exponential backoff...\n",
      "Rate limit exceeded. Attempting exponential backoff...\n",
      " 94%|█████████▍| 85/90 [05:51<00:28,  5.73s/it]Rate limit exceeded. Attempting exponential backoff...\n",
      "Rate limit exceeded. Attempting exponential backoff...\n",
      "Rate limit exceeded. Attempting exponential backoff...\n",
      "Rate limit exceeded. Attempting exponential backoff...\n",
      "Rate limit exceeded. Attempting exponential backoff...\n",
      "Rate limit exceeded. Attempting exponential backoff...\n",
      "Rate limit exceeded. Attempting exponential backoff...\n",
      "Rate limit exceeded. Attempting exponential backoff...\n",
      " 96%|█████████▌| 86/90 [05:56<00:22,  5.62s/it]Rate limit exceeded. Attempting exponential backoff...\n",
      "Rate limit exceeded. Attempting exponential backoff...\n",
      "Rate limit exceeded. Attempting exponential backoff...\n",
      "Rate limit exceeded. Attempting exponential backoff...\n",
      "Rate limit exceeded. Attempting exponential backoff...\n",
      "Rate limit exceeded. Attempting exponential backoff...\n",
      "Rate limit exceeded. Attempting exponential backoff...\n",
      "Rate limit exceeded. Attempting exponential backoff...\n",
      "Rate limit exceeded. Attempting exponential backoff...\n",
      "Rate limit exceeded. Attempting exponential backoff...\n",
      "Rate limit exceeded. Attempting exponential backoff...\n",
      "Rate limit exceeded. Attempting exponential backoff...\n",
      "Rate limit exceeded. Attempting exponential backoff...\n",
      "Rate limit exceeded. Attempting exponential backoff...\n",
      "Rate limit exceeded. Attempting exponential backoff...\n",
      "Rate limit exceeded. Attempting exponential backoff...\n",
      "Rate limit exceeded. Attempting exponential backoff...\n",
      " 97%|█████████▋| 87/90 [06:03<00:17,  5.99s/it]Rate limit exceeded. Attempting exponential backoff...\n",
      "Rate limit exceeded. Attempting exponential backoff...\n",
      "Rate limit exceeded. Attempting exponential backoff...\n",
      "Rate limit exceeded. Attempting exponential backoff...\n",
      "100%|██████████| 90/90 [06:19<00:00,  4.22s/it]\n"
     ]
    },
    {
     "name": "stdout",
     "output_type": "stream",
     "text": [
      "Running search and steering for features associated with \"ethic\"\n",
      "\n"
     ]
    },
    {
     "name": "stderr",
     "output_type": "stream",
     "text": [
      " 27%|██▋       | 24/90 [01:49<03:53,  3.54s/it]Rate limit exceeded. Attempting exponential backoff...\n",
      "Rate limit exceeded. Attempting exponential backoff...\n",
      "Rate limit exceeded. Attempting exponential backoff...\n",
      "Rate limit exceeded. Attempting exponential backoff...\n",
      " 49%|████▉     | 44/90 [03:27<03:41,  4.80s/it]Rate limit exceeded. Attempting exponential backoff...\n",
      " 74%|███████▍  | 67/90 [05:16<01:44,  4.54s/it]Rate limit exceeded. Attempting exponential backoff...\n",
      " 84%|████████▍ | 76/90 [05:59<01:03,  4.52s/it]Rate limit exceeded. Attempting exponential backoff...\n",
      " 86%|████████▌ | 77/90 [06:05<01:06,  5.11s/it]Rate limit exceeded. Attempting exponential backoff...\n",
      "Rate limit exceeded. Attempting exponential backoff...\n",
      " 90%|█████████ | 81/90 [06:24<00:43,  4.87s/it]Rate limit exceeded. Attempting exponential backoff...\n",
      " 92%|█████████▏| 83/90 [06:34<00:33,  4.83s/it]Rate limit exceeded. Attempting exponential backoff...\n",
      "Rate limit exceeded. Attempting exponential backoff...\n",
      " 94%|█████████▍| 85/90 [06:42<00:20,  4.17s/it]Rate limit exceeded. Attempting exponential backoff...\n",
      "Rate limit exceeded. Attempting exponential backoff...\n",
      "100%|██████████| 90/90 [07:09<00:00,  4.77s/it]\n"
     ]
    }
   ],
   "source": [
    "import time\n",
    "# keywords\n",
    "#'overall impact','duty', 'dignity', 'greater good', git \n",
    "for keyword in [#'obligation','ethic']: # 'dignity', 'greater good',\n",
    "    'obligation','ethic']:\n",
    "    print(f'Running search and steering for features associated with \"{keyword}\"\\n')\n",
    "    features = client.features.search(keyword, model=base)[0][:20]\n",
    "    steerages = [-.5, -0.3, -0.2, -0.1, 0, 0.1, 0.2, 0.3, 0.5]\n",
    "    experiments = tabular_experiments(features, steerages, personas=None, wait=1.5, base=base)\n",
    "    experiments.to_csv(\"data/\" + now_str()+''.join(keyword)+\".csv\", index=False)\n",
    "    time.sleep(2)"
   ]
  }
 ],
 "metadata": {
  "kernelspec": {
   "display_name": ".venv",
   "language": "python",
   "name": "python3"
  },
  "language_info": {
   "codemirror_mode": {
    "name": "ipython",
    "version": 3
   },
   "file_extension": ".py",
   "mimetype": "text/x-python",
   "name": "python",
   "nbconvert_exporter": "python",
   "pygments_lexer": "ipython3",
   "version": "3.13.0"
  }
 },
 "nbformat": 4,
 "nbformat_minor": 2
}
