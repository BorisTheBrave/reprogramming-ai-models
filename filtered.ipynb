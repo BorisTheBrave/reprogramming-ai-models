{
 "cells": [
  {
   "cell_type": "markdown",
   "metadata": {},
   "source": [
    "# Filtering based on initial research + additions"
   ]
  },
  {
   "cell_type": "code",
   "execution_count": null,
   "metadata": {},
   "outputs": [],
   "source": [
    "import pandas as pd\n",
    "import numpy as np"
   ]
  },
  {
   "cell_type": "code",
   "execution_count": null,
   "metadata": {},
   "outputs": [],
   "source": [
    "df = pd.read_csv('ous_data/data_preprocessed.csv')\n"
   ]
  },
  {
   "cell_type": "markdown",
   "metadata": {},
   "source": [
    "## Filtering"
   ]
  },
  {
   "cell_type": "code",
   "execution_count": null,
   "metadata": {},
   "outputs": [],
   "source": [
    "# Exclusionary criteria steps\n",
    "\n",
    "# 1. Complete responses for IB and IH questions\n",
    "# First, get all IB and IH columns\n",
    "ib_ih_cols = [col for col in df.columns if col.startswith(('IB', 'IH'))]\n",
    "ous_complete = df.dropna(subset=ib_ih_cols)\n",
    "\n",
    "# 2. Filter for correct careless check answers\n",
    "ous_correct = ous_complete[\n",
    "    (ous_complete['careless_1'] == 2) &\n",
    "    (ous_complete['careless_2'] == 2) &\n",
    "    (ous_complete['careless_3'] == 1)\n",
    "]\n",
    "\n",
    "# 3. Not confused by materials\n",
    "ous_confuse = ous_correct[\n",
    "    ous_correct['confusion'].notna() &\n",
    "    (ous_correct['confusion'] < 3)\n",
    "]\n",
    "\n",
    "# 4. No technical problems\n",
    "ous_technical = ous_confuse[\n",
    "    ous_confuse['technical_problems'] == 1\n",
    "]\n",
    "\n",
    "# 5. Native language speakers\n",
    "ous_native = ous_technical[\n",
    "    ous_technical['native_language'] == 1\n",
    "]\n",
    "\n",
    "# Filter for languages that met configural invariance\n",
    "valid_languages = [\n",
    "    \"EN\", \"FR\", \"IT\", \"RU\", \"SK\", \"TR\",\n",
    "    \"ES-ARG\", \"CHI\", \"COL-ESP\", \"ES-EC\", \"ESP-ESP\",\n",
    "    \"ES-MX\", \"ES-PE\", \"ESP-SAL\", \"ES-ES\"\n",
    "]\n",
    "\n",
    "ous_align = ous_native[ous_native['Q_Lang'].isin(valid_languages)].copy()\n",
    "\n",
    "# Create language variable with numeric coding\n",
    "language_mapping = {\n",
    "    \"EN\": 1,\n",
    "    \"FR\": 2,\n",
    "    \"IT\": 3,\n",
    "    \"RU\": 4,\n",
    "    \"SK\": 5,\n",
    "    \"TR\": 7,\n",
    "    # All Spanish variants mapped to 6\n",
    "    \"ES-ARG\": 6, \"CHI\": 6, \"COL-ESP\": 6, \"ES-EC\": 6,\n",
    "    \"ESP-ESP\": 6, \"ES-MX\": 6, \"ES-PE\": 6, \"ESP-SAL\": 6,\n",
    "    \"ES-ES\": 6\n",
    "}\n",
    "\n",
    "ous_align['lang'] = ous_align['Q_Lang'].map(language_mapping)\n",
    "\n"
   ]
  },
  {
   "cell_type": "code",
   "execution_count": null,
   "metadata": {},
   "outputs": [],
   "source": [
    "# Dictionary mapping\n",
    "country_to_continent = {\n",
    "    'IND': 'Asia',\n",
    "    'CHN': 'Asia',\n",
    "    'USA': 'North America',\n",
    "    'CAN': 'North America',\n",
    "    'GBR': 'Europe',\n",
    "    'FRA': 'Europe',\n",
    "    'ARE': 'Asia',\n",
    "    'MYS': 'Asia', \n",
    "    'LBN': 'Asia', \n",
    "    'THA': 'Asia', \n",
    "    'MKD': 'Europe', \n",
    "    'PAK': 'Asia', \n",
    "    'IRN': 'Asia',\n",
    "    'JPN': 'Asia',  \n",
    "    'HUN': 'Europe', \n",
    "    'COL': 'South America', \n",
    "    'ARG': 'South America', \n",
    "    'SVK': 'Europe', \n",
    "    'TUR': 'Asia', \n",
    "    'ECU': 'South America', \n",
    "    'CHL': 'South America',\n",
    "    'CZE': 'Europe', \n",
    "    'PER': 'South America', \n",
    "    'PHL': 'Asia', \n",
    "    'MEX': 'North America', \n",
    "    'SRB': 'Europe', \n",
    "    'RUS': 'Asia', \n",
    "    'DEU': 'Europe',\n",
    "    'AUT': 'Europe', \n",
    "    'POL': 'Europe', \n",
    "    'DNK': 'Europe', \n",
    "    'ITA': 'Europe', \n",
    "    'AUS': 'Oceania', \n",
    "    'PRT': 'Europe', \n",
    "    'KAZ': 'Asia', \n",
    "    'GRC': 'Europe',\n",
    "    'ESP': 'Europe', \n",
    "    'BGR': 'Europe', \n",
    "    'NZL': 'Oceania', \n",
    "    'BRA': 'South America', \n",
    "    'NLD': 'Europe', \n",
    "    'HRV': 'Europe', \n",
    "    'ROU': 'Europe', \n",
    "    'CHE': 'Europe', \n",
    "    'SGP': 'Asia'\n",
    "}\n",
    "\n",
    "ous_align['education_level'] = df['education_leve']\n",
    "ous_align['sex'] = df['sex']\n",
    "ous_align['country_origin'] = df['countr_origin_1']\n",
    "ous_align['country'] = df['country3']\n",
    "\n",
    "# Create new continent column based on country codes\n",
    "ous_align['continent'] = df['country3'].map(country_to_continent)\n",
    "\n",
    "ous_align['age'] = df['Age']\n",
    "\n",
    "# Select final variables\n",
    "final_cols = ['IB1', 'IB2', 'IB3', 'IB4', 'IB5', \n",
    "              'IH1', 'IH2', 'IH3', 'IH4', 'lang', 'education_level', 'sex', 'country_origin', 'country', 'age', 'continent']\n",
    "ous_align = ous_align[final_cols]\n"
   ]
  },
  {
   "cell_type": "markdown",
   "metadata": {},
   "source": [
    "## Export to csv"
   ]
  },
  {
   "cell_type": "code",
   "execution_count": null,
   "metadata": {},
   "outputs": [],
   "source": [
    "# Optional: Print sample sizes at each step for verification\n",
    "print(f\"Initial sample size: {len(df)}\")\n",
    "print(f\"Complete responses: {len(ous_complete)}\")\n",
    "print(f\"Correct careless checks: {len(ous_correct)}\")\n",
    "print(f\"Not confused: {len(ous_confuse)}\")\n",
    "print(f\"No technical problems: {len(ous_technical)}\")\n",
    "print(f\"Native speakers: {len(ous_native)}\")\n",
    "print(f\"Final aligned sample: {len(ous_align)}\")\n",
    "\n",
    "# Print language distribution\n",
    "print(\"\\nLanguage distribution:\")\n",
    "print(ous_align['lang'].value_counts().sort_index())\n",
    "\n",
    "# Write to CSV without headers and index\n",
    "ous_align.to_csv('ous_data/ous_align2.csv', \n",
    "                 index=False, \n",
    "                 header=True)"
   ]
  },
  {
   "cell_type": "code",
   "execution_count": null,
   "metadata": {},
   "outputs": [],
   "source": []
  },
  {
   "cell_type": "code",
   "execution_count": null,
   "metadata": {},
   "outputs": [],
   "source": []
  }
 ],
 "metadata": {
  "kernelspec": {
   "display_name": "Python 3",
   "language": "python",
   "name": "python3"
  },
  "language_info": {
   "codemirror_mode": {
    "name": "ipython",
    "version": 3
   },
   "file_extension": ".py",
   "mimetype": "text/x-python",
   "name": "python",
   "nbconvert_exporter": "python",
   "pygments_lexer": "ipython3",
   "version": "3.12.7"
  }
 },
 "nbformat": 4,
 "nbformat_minor": 2
}
