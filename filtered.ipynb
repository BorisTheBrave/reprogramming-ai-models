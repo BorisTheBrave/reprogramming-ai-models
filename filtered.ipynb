{
 "cells": [
  {
   "cell_type": "markdown",
   "metadata": {},
   "source": [
    "# Filtering based on initial research + additions"
   ]
  },
  {
   "cell_type": "code",
   "execution_count": 13,
   "metadata": {},
   "outputs": [],
   "source": [
    "import pandas as pd\n",
    "import numpy as np"
   ]
  },
  {
   "cell_type": "code",
   "execution_count": 14,
   "metadata": {},
   "outputs": [],
   "source": [
    "df = pd.read_csv('ous_data/data_preprocessed.csv')\n"
   ]
  },
  {
   "cell_type": "markdown",
   "metadata": {},
   "source": [
    "## Filtering"
   ]
  },
  {
   "cell_type": "code",
   "execution_count": 15,
   "metadata": {},
   "outputs": [],
   "source": [
    "# Exclusionary criteria steps\n",
    "\n",
    "# 1. Complete responses for IB and IH questions\n",
    "# First, get all IB and IH columns\n",
    "ib_ih_cols = [col for col in df.columns if col.startswith(('IB', 'IH'))]\n",
    "ous_complete = df.dropna(subset=ib_ih_cols)\n",
    "\n",
    "# 2. Filter for correct careless check answers\n",
    "ous_correct = ous_complete[\n",
    "    (ous_complete['careless_1'] == 2) &\n",
    "    (ous_complete['careless_2'] == 2) &\n",
    "    (ous_complete['careless_3'] == 1)\n",
    "]\n",
    "\n",
    "# 3. Not confused by materials\n",
    "ous_confuse = ous_correct[\n",
    "    ous_correct['confusion'].notna() &\n",
    "    (ous_correct['confusion'] < 3)\n",
    "]\n",
    "\n",
    "# 4. No technical problems\n",
    "ous_technical = ous_confuse[\n",
    "    ous_confuse['technical_problems'] == 1\n",
    "]\n",
    "\n",
    "# 5. Native language speakers\n",
    "ous_native = ous_technical[\n",
    "    ous_technical['native_language'] == 1\n",
    "]\n",
    "\n",
    "# Filter for languages that met configural invariance\n",
    "valid_languages = [\n",
    "    \"EN\", \"FR\", \"IT\", \"RU\", \"SK\", \"TR\",\n",
    "    \"ES-ARG\", \"CHI\", \"COL-ESP\", \"ES-EC\", \"ESP-ESP\",\n",
    "    \"ES-MX\", \"ES-PE\", \"ESP-SAL\", \"ES-ES\"\n",
    "]\n",
    "\n",
    "ous_align = ous_native[ous_native['Q_Lang'].isin(valid_languages)].copy()\n",
    "\n",
    "# Create language variable with numeric coding\n",
    "language_mapping = {\n",
    "    \"EN\": 1,\n",
    "    \"FR\": 2,\n",
    "    \"IT\": 3,\n",
    "    \"RU\": 4,\n",
    "    \"SK\": 5,\n",
    "    \"TR\": 7,\n",
    "    # All Spanish variants mapped to 6\n",
    "    \"ES-ARG\": 6, \"CHI\": 6, \"COL-ESP\": 6, \"ES-EC\": 6,\n",
    "    \"ESP-ESP\": 6, \"ES-MX\": 6, \"ES-PE\": 6, \"ESP-SAL\": 6,\n",
    "    \"ES-ES\": 6\n",
    "}\n",
    "\n",
    "ous_align['lang'] = ous_align['Q_Lang'].map(language_mapping)\n",
    "\n",
    "# ous_align['continent'] = 0\n",
    "\n",
    "\n",
    "# Select final variables\n",
    "final_cols = ['IB1', 'IB2', 'IB3', 'IB4', 'IB5', \n",
    "              'IH1', 'IH2', 'IH3', 'IH4', 'lang'] #, 'continent']\n",
    "ous_align = ous_align[final_cols]"
   ]
  },
  {
   "cell_type": "markdown",
   "metadata": {},
   "source": [
    "## Export to csv"
   ]
  },
  {
   "cell_type": "code",
   "execution_count": 16,
   "metadata": {},
   "outputs": [
    {
     "name": "stdout",
     "output_type": "stream",
     "text": [
      "Initial sample size: 27590\n",
      "Complete responses: 27590\n",
      "Correct careless checks: 27067\n",
      "Not confused: 24092\n",
      "No technical problems: 21988\n",
      "Native speakers: 20579\n",
      "Final aligned sample: 10677\n",
      "\n",
      "Language distribution:\n",
      "lang\n",
      "1    6325\n",
      "2    1096\n",
      "3     401\n",
      "4     414\n",
      "5     461\n",
      "6     869\n",
      "7    1111\n",
      "Name: count, dtype: int64\n"
     ]
    }
   ],
   "source": [
    "# Optional: Print sample sizes at each step for verification\n",
    "print(f\"Initial sample size: {len(df)}\")\n",
    "print(f\"Complete responses: {len(ous_complete)}\")\n",
    "print(f\"Correct careless checks: {len(ous_correct)}\")\n",
    "print(f\"Not confused: {len(ous_confuse)}\")\n",
    "print(f\"No technical problems: {len(ous_technical)}\")\n",
    "print(f\"Native speakers: {len(ous_native)}\")\n",
    "print(f\"Final aligned sample: {len(ous_align)}\")\n",
    "\n",
    "# Print language distribution\n",
    "print(\"\\nLanguage distribution:\")\n",
    "print(ous_align['lang'].value_counts().sort_index())\n",
    "\n",
    "# Write to CSV without headers and index\n",
    "ous_align.to_csv('ous_data/ous_align2.csv', \n",
    "                 index=False, \n",
    "                 header=True)"
   ]
  },
  {
   "cell_type": "code",
   "execution_count": null,
   "metadata": {},
   "outputs": [],
   "source": []
  }
 ],
 "metadata": {
  "kernelspec": {
   "display_name": "Python 3",
   "language": "python",
   "name": "python3"
  },
  "language_info": {
   "codemirror_mode": {
    "name": "ipython",
    "version": 3
   },
   "file_extension": ".py",
   "mimetype": "text/x-python",
   "name": "python",
   "nbconvert_exporter": "python",
   "pygments_lexer": "ipython3",
   "version": "3.12.7"
  }
 },
 "nbformat": 4,
 "nbformat_minor": 2
}
