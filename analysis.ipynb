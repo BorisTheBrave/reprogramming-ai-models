{
 "cells": [
  {
   "cell_type": "code",
   "execution_count": null,
   "metadata": {},
   "outputs": [],
   "source": [
    "import pandas as pd\n",
    "\n",
    "df = pd.read_csv(\"data/20241123205432.csv\")\n",
    "df[:3]"
   ]
  },
  {
   "cell_type": "code",
   "execution_count": null,
   "metadata": {},
   "outputs": [],
   "source": [
    "df['factor'] = df['question'].apply(lambda x: 'IB' if x%2 == 0 else 'IH')\n",
    "df2 = df.drop('base', axis=1).groupby(['feature', 'steerage', 'factor'], as_index=False).mean()\n",
    "df2 = df2.pivot(index=['feature', 'steerage'],columns='factor', values='mean_score').reset_index()\n",
    "df2[:3]\n"
   ]
  },
  {
   "cell_type": "code",
   "execution_count": null,
   "metadata": {},
   "outputs": [],
   "source": [
    "import matplotlib.pyplot as plt\n",
    "import matplotlib.cm as cm\n",
    "\n",
    "plt.figure(figsize=(10, 6))\n",
    "\n",
    "def scatter_plot_feature(feature, group):\n",
    "    \"\"\"Group should have IB/IB and be in sorted order\"\"\"\n",
    "    sc = plt.scatter(group['IB'], group['IH'],  marker='o',label=feature)\n",
    "    color = sc.get_facecolor()\n",
    "    for i in range(len(group) - 1):\n",
    "        plt.annotate(\n",
    "            '',  # No text for the annotation\n",
    "            xy=(group['IB'].iloc[i + 1], group['IH'].iloc[i + 1]),  # Arrow end\n",
    "            xytext=(group['IB'].iloc[i], group['IH'].iloc[i]),  # Arrow start\n",
    "            arrowprops=dict(arrowstyle='->', lw=1.5, color=color),  # Arrow style\n",
    "        )\n",
    "    plt.text(group['IB'].iloc[-1] + 0.04, group['IH'].iloc[-1], feature, fontsize=9, ha='left', va='center')\n",
    "\n",
    "for feature, group in df2.groupby('feature'):\n",
    "    scatter_plot_feature(feature, group)\n",
    "\n",
    "# Add labels, legend, and grid\n",
    "plt.xlim(1, 7)\n",
    "plt.ylim(1, 7)\n",
    "plt.xticks(range(1, 8))  # Tick marks from 1 to 7\n",
    "plt.yticks(range(1, 8))  # Tick marks from 1 to 7\n",
    "plt.xlabel('IB')\n",
    "plt.ylabel('IH')\n",
    "plt.title('Feature steerage effect on Instrumental Harm and Impartial Beneficence')\n",
    "plt.grid(True)\n",
    "\n",
    "# Show plot\n",
    "plt.show()"
   ]
  },
  {
   "cell_type": "code",
   "execution_count": null,
   "metadata": {},
   "outputs": [],
   "source": []
  }
 ],
 "metadata": {
  "kernelspec": {
   "display_name": "Python 3",
   "language": "python",
   "name": "python3"
  },
  "language_info": {
   "codemirror_mode": {
    "name": "ipython",
    "version": 3
   },
   "file_extension": ".py",
   "mimetype": "text/x-python",
   "name": "python",
   "nbconvert_exporter": "python",
   "pygments_lexer": "ipython3",
   "version": "3.12.7"
  }
 },
 "nbformat": 4,
 "nbformat_minor": 2
}
