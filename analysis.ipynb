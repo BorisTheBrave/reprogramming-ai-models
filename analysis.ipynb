{
 "cells": [
  {
   "cell_type": "markdown",
   "metadata": {},
   "source": [
    "# Introduction\n",
    "\n",
    "In `main.ipynb` the goodfire API is called to collect experimental data into various CSVs. This code processes and plots that raw data."
   ]
  },
  {
   "cell_type": "code",
   "execution_count": null,
   "metadata": {},
   "outputs": [],
   "source": [
    "import pandas as pd\n",
    "import numpy as np\n",
    "\n",
    "# Some of the experiments run\n",
    "moral_factors = \"data/20241124001836.csv\"\n",
    "personas_test = \"data/personas_test.csv\"\n",
    "baseline_models = \"data/baseline_models.csv\"\n",
    "elephant_features = \"data/elephant_features.csv\"\n",
    "\n",
    "# Load the data\n",
    "df = pd.read_csv(personas_test)\n",
    "df[:3]"
   ]
  },
  {
   "cell_type": "code",
   "execution_count": null,
   "metadata": {},
   "outputs": [],
   "source": [
    "# Clean and filter the data\n",
    "def clean_df(df):\n",
    "    if 'persona' not in df.columns: df['persona'] = ''\n",
    "    df['persona'] = df['persona'].fillna('')\n",
    "    df = df[(-0.8 < df['steerage']) & (df['steerage'] < 0.8)]\n",
    "    return df\n",
    "\n",
    "# Summarize the scores from the questions as two factors. \n",
    "# The Oxford Utilitarianism Scale has odd questions as coding for \"Impartial Beneficence\" and even as \"Instrumental Harm\",\n",
    "# each of which is a simple average of responses.\n",
    "def summarise_df(df):\n",
    "    df['factor'] = df['question'].apply(lambda x: 'IB' if x%2 == 0 else 'IH')\n",
    "    df2 = df[['feature', 'steerage', 'persona', 'factor', 'mean_score']].groupby(['feature', 'steerage', 'persona', 'factor'], as_index=False).mean()\n",
    "    df2 = df2.pivot(index=['feature', 'steerage', 'persona'],columns='factor', values='mean_score').reset_index()\n",
    "    return df2\n",
    "\n",
    "def get_df(filename):\n",
    "    return summarise_df(clean_df(pd.read_csv(filename)))\n",
    "\n",
    "df2 = summarise_df(clean_df(df))\n",
    "df2[:3]\n",
    "\n"
   ]
  },
  {
   "cell_type": "code",
   "execution_count": null,
   "metadata": {},
   "outputs": [],
   "source": [
    "\n",
    "# Load and process the human dataset.\n",
    "h1 = pd.read_csv(\"ous_data/ous_align2.csv\")\n",
    "\n",
    "\n",
    "h2 = h1.copy()\n",
    "h2[\"IB\"] = (h2[\"IB1\"] + h2[\"IB2\"] + h2[\"IB3\"] + h2[\"IB4\"] + h2[\"IB5\"]) / 5\n",
    "h2[\"IH\"] = (h2[\"IH1\"] + h2[\"IH2\"] + h2[\"IH3\"] + h2[\"IH4\"]) / 5\n",
    "\n",
    "h2[[\"sex\", \"country\", \"age\", \"IB\", \"IH\"]][:3]"
   ]
  },
  {
   "cell_type": "code",
   "execution_count": null,
   "metadata": {},
   "outputs": [],
   "source": [
    "import matplotlib.pyplot as plt\n",
    "import matplotlib.cm as cm\n",
    "from scipy.stats import gaussian_kde\n",
    "\n",
    "def scatter_plot_feature(feature, persona, group, fontsize=9, use_legend=False):\n",
    "    \"\"\"Group should have IB/IH columns and be in sorted order\"\"\"\n",
    "    # label the chart\n",
    "    has_persona = persona\n",
    "    has_feature = (group[\"steerage\"] != 0).any()\n",
    "    if has_persona and has_feature:\n",
    "        name = f\"{feature} ({persona})\"\n",
    "    elif has_persona:\n",
    "        name = persona\n",
    "    else:\n",
    "        name = feature\n",
    "    # Draw the actual dots\n",
    "    sc = plt.scatter(group['IB'], group['IH'],  marker='o',label=name)\n",
    "    color = sc.get_facecolor()\n",
    "    # Connect the dots. These are draw as arrows so it's clear which end of series\n",
    "    # is positive.\n",
    "    for i in range(len(group) - 1):\n",
    "        plt.annotate(\n",
    "            '',  # No text for the annotation\n",
    "            xy=(group['IB'].iloc[i + 1], group['IH'].iloc[i + 1]),  # Arrow end\n",
    "            xytext=(group['IB'].iloc[i], group['IH'].iloc[i]),  # Arrow start\n",
    "            arrowprops=dict(arrowstyle='->', lw=1.5, color=color),  # Arrow style\n",
    "        )\n",
    "\n",
    "    if not use_legend:\n",
    "        plt.text(group['IB'].iloc[-1] + 0.04, group['IH'].iloc[-1], name, fontsize=fontsize, ha='left', va='center')\n",
    "\n",
    "def human_heatmap():\n",
    "    # Draw humans a heatmap\n",
    "    ib_vals = np.arange(1, 8)\n",
    "    ih_vals = np.arange(1, 8)\n",
    "    heatmap, xedges, yedges = np.histogram2d(\n",
    "        h2['IB'], h2['IH'], bins=(ib_vals, ih_vals)\n",
    "    )\n",
    "    plt.pcolormesh(xedges, yedges, heatmap.T, cmap='viridis', shading='auto', alpha=0.3)\n",
    "\n",
    "def human_kde():\n",
    "    # TODO: Not sure this is correct?\n",
    "    # Draw humans as KDE\n",
    "    smoothness=20\n",
    "    ib_vals = np.linspace(1, 7, smoothness)  # Smoother grid for IB\n",
    "    ih_vals = np.linspace(1, 7, smoothness)  # Smoother grid for IH\n",
    "    ib_grid, ih_grid = np.meshgrid(ib_vals, ih_vals)\n",
    "    positions = np.vstack([ib_grid.ravel(), ih_grid.ravel()])\n",
    "    values = np.vstack([h2['IB'], h2['IH']])\n",
    "    kernel = gaussian_kde(values)\n",
    "    Z = np.reshape(kernel(positions).T, ib_vals.shape + ih_vals.shape)\n",
    "\n",
    "    #plt.imshow(np.rot90(Z), cmap=plt.cm.gist_earth_r, extent=[1, 7, 1, 7])\n",
    "    plt.imshow(np.rot90(np.rot90(np.rot90(Z))), cmap=plt.cm.gist_earth_r, extent=[1, 7, 1, 7])\n",
    "\n",
    "def make_plot(df2, heatmap=False, title='Feature steerage effect on Instrumental Harm and Impartial Beneficence', fontsize=9, use_legend=False):\n",
    "\n",
    "    plt.figure(figsize=(10, 6))\n",
    "\n",
    "    if heatmap:\n",
    "        #human_heatmap()\n",
    "        human_kde()\n",
    "\n",
    "    for (feature, persona), group in df2.groupby(by=['feature', 'persona']):\n",
    "        scatter_plot_feature(feature, persona, group, fontsize, use_legend)\n",
    "\n",
    "\n",
    "    # Add labels, legend, and grid\n",
    "    # plt.xlim(1, 7)\n",
    "    # plt.ylim(1, 7)\n",
    "    # plt.xticks(range(1, 8))  # Tick marks from 1 to 7\n",
    "    # plt.yticks(range(1, 8))  # Tick marks from 1 to 7\n",
    "    plt.xlabel('Impartial Beneficence')\n",
    "    plt.ylabel('Instrumental Harm')\n",
    "    plt.title(title)\n",
    "    if use_legend:\n",
    "        plt.legend(loc=\"upper left\")\n",
    "    plt.grid(True)\n",
    "\n",
    "    # Show plot\n",
    "    plt.show()\n",
    "\n",
    "def chunks(xs, n):\n",
    "    n = max(1, n)\n",
    "    return (xs[i:i+n] for i in range(0, len(xs), n))\n",
    "\n",
    "def do_plots(df2, chunkby=5, *args, **kwargs):\n",
    "    # TODO: Sort features by shape?\n",
    "    all_features = df2[\"feature\"].unique()\n",
    "    for features in chunks(all_features, chunkby):\n",
    "        make_plot(df2[df2[\"feature\"].isin(features)], *args, **kwargs)\n",
    "\n",
    "\n"
   ]
  },
  {
   "cell_type": "code",
   "execution_count": null,
   "metadata": {},
   "outputs": [],
   "source": [
    "def get_steepest(df,n=5, sortby=\"mag\"):\n",
    "\n",
    "    x = df.pivot(columns=\"steerage\", index=[\"feature\", \"persona\"])\n",
    "    ib = (x[(\"IB\", 0.1)] - x[(\"IB\", -0.1)]) / 0.2\n",
    "    ih = (x[(\"IH\", 0.1)] - x[(\"IH\", -0.1)]) / 0.2\n",
    "    slope = pd.DataFrame({'IB': ib, 'IH': ih})\n",
    "    slope[\"mag\"] = (slope[\"IB\"]**2+slope[\"IH\"]**2)**0.5\n",
    "    slope[\"IB\"] = slope[\"IB\"].abs()\n",
    "    slope[\"IH\"] = slope[\"IH\"].abs()\n",
    "    slope = slope.sort_values(sortby,ascending=False)\n",
    "    best = slope[:n].reset_index()[\"feature\"]\n",
    "    return df[df[\"feature\"].isin(best)]\n"
   ]
  },
  {
   "cell_type": "markdown",
   "metadata": {},
   "source": [
    "# Output charts\n",
    "\n",
    "Reproducible versions of the charts in the paper"
   ]
  },
  {
   "cell_type": "code",
   "execution_count": null,
   "metadata": {},
   "outputs": [],
   "source": [
    "do_plots(get_df(baseline_models), title=\"Baseline Models\", heatmap=True, fontsize=20)"
   ]
  },
  {
   "cell_type": "code",
   "execution_count": null,
   "metadata": {},
   "outputs": [],
   "source": [
    "do_plots(get_df(elephant_features), title=\"Elephant Features (negative case)\", heatmap=True)"
   ]
  },
  {
   "cell_type": "code",
   "execution_count": null,
   "metadata": {},
   "outputs": [],
   "source": [
    "do_plots(get_steepest(get_df(moral_factors), sortby=\"IB\"), title=\"Shallowest 5 Features\", heatmap=True, chunkby=100)\n",
    "do_plots(get_steepest(get_df(moral_factors), sortby=\"IH\"), title=\"Steepest 5 Features\", heatmap=True, chunkby=100)"
   ]
  },
  {
   "cell_type": "code",
   "execution_count": null,
   "metadata": {},
   "outputs": [],
   "source": [
    "do_plots(get_df(moral_factors))"
   ]
  },
  {
   "cell_type": "code",
   "execution_count": null,
   "metadata": {},
   "outputs": [],
   "source": [
    "df = get_df(\"data/20241124101056nationalities.csv\")\n",
    "do_plots(df, use_legend=False)"
   ]
  }
 ],
 "metadata": {
  "kernelspec": {
   "display_name": ".venv",
   "language": "python",
   "name": "python3"
  },
  "language_info": {
   "codemirror_mode": {
    "name": "ipython",
    "version": 3
   },
   "file_extension": ".py",
   "mimetype": "text/x-python",
   "name": "python",
   "nbconvert_exporter": "python",
   "pygments_lexer": "ipython3",
   "version": "3.13.0"
  }
 },
 "nbformat": 4,
 "nbformat_minor": 2
}
