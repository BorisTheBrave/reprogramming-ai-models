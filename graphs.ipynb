{
 "cells": [
  {
   "cell_type": "markdown",
   "metadata": {},
   "source": [
    "# MLP Visualiser"
   ]
  },
  {
   "cell_type": "code",
   "execution_count": null,
   "metadata": {},
   "outputs": [],
   "source": [
    "import pandas as pd\n",
    "import matplotlib.pyplot as plt\n",
    "import seaborn as sns"
   ]
  },
  {
   "cell_type": "code",
   "execution_count": null,
   "metadata": {},
   "outputs": [],
   "source": [
    "df = pd.read_csv('ous_data/data_preprocessed.csv')"
   ]
  },
  {
   "cell_type": "code",
   "execution_count": null,
   "metadata": {},
   "outputs": [],
   "source": [
    "df.shape"
   ]
  },
  {
   "cell_type": "code",
   "execution_count": null,
   "metadata": {},
   "outputs": [],
   "source": [
    "df.columns"
   ]
  },
  {
   "cell_type": "code",
   "execution_count": null,
   "metadata": {},
   "outputs": [],
   "source": [
    "df1 = df[['IB3', 'IH1', 'IB2', 'IH2', 'IB1', 'IH3', 'IB4', 'IH4', 'IB5',\n",
    "        'native_language', 'Q_Lang',\n",
    "       'religion_1', 'religion_2', 'religion_3', 'religion_4', 'religion_5',\n",
    "       'religion_6', 'religion_7', 'religion_8', 'religion_9', 'religion_10',\n",
    "       'religion_11', 'religion_12', 'religion_13', 'religion_14',\n",
    "       'religion_15', 'religion_16', 'education_leve', 'sex', 'countr_origin_1', 'country3',\n",
    "       'Age']]"
   ]
  },
  {
   "cell_type": "code",
   "execution_count": null,
   "metadata": {},
   "outputs": [],
   "source": [
    "df1.columns"
   ]
  },
  {
   "cell_type": "markdown",
   "metadata": {},
   "source": [
    "## Data processing"
   ]
  },
  {
   "cell_type": "code",
   "execution_count": null,
   "metadata": {},
   "outputs": [],
   "source": [
    "def analyze_questionnaire(df):\n",
    "    \"\"\"\n",
    "    Create visualisations for questionnaire data based on demographic factors.\n",
    "    \n",
    "    Parameters:\n",
    "    df: pandas DataFrame with columns:\n",
    "        - First 9 columns: questionnaire answers\n",
    "        - age: respondent's age\n",
    "        - educationlevel: education level\n",
    "        - country: country of residence\n",
    "        - gender: respondent's gender\n",
    "    \"\"\"\n",
    "\n",
    "    # Set up the plotting style\n",
    "    plt.style.use('ggplot')\n",
    "    \n",
    "    # Create a figure with multiple subplots\n",
    "    fig = plt.figure(figsize=(20, 15))\n",
    "    \n",
    "    # 1. Average responses by age groups\n",
    "    plt.subplot(2, 2, 1)\n",
    "\n",
    "    # Create age groups\n",
    "    df['age_group'] = pd.cut(df['Age'], bins=[0, 25, 35, 45, 55, 100], \n",
    "                            labels=['18-25', '26-35', '36-45', '46-55', '55+'])\n",
    "    \n",
    "    # Calculate mean responses for first 9 questions by age group\n",
    "    age_means = df.iloc[:, :9].groupby(df['age_group']).mean()\n",
    "    \n",
    "    # Create heatmap\n",
    "    sns.heatmap(age_means, cmap='YlOrRd', annot=True, fmt='.2f')\n",
    "    plt.title('Average Responses by Age Group')\n",
    "    plt.xlabel('Question Number')\n",
    "    plt.ylabel('Age Group')\n",
    "    \n",
    "    # 2. Response distribution by education level\n",
    "    plt.subplot(2, 2, 2)\n",
    "    edu_means = df.iloc[:, :10].groupby(df['education_leve']).mean().T\n",
    "    edu_means.plot(kind='bar', ax=plt.gca())\n",
    "    plt.title('Response Patterns by Education Level')\n",
    "    plt.xlabel('Question Number')\n",
    "    plt.ylabel('Average Response')\n",
    "    plt.legend(title='Education Level', bbox_to_anchor=(1.05, 1))\n",
    "    plt.xticks(rotation=45)\n",
    "    \n",
    "    # 3. Country-wise response patterns (top 9 countries)\n",
    "    plt.subplot(2, 2, 3)\n",
    "    top_countries = df['country3'].value_counts().nlargest(9).index\n",
    "    country_data = df[df['country3'].isin(top_countries)]\n",
    "    country_means = df.iloc[:, :10].groupby(df['country3']).mean()\n",
    "    \n",
    "    sns.boxplot(data=country_data.melt(id_vars=['country3'], value_vars=df.columns[:10]), \n",
    "                x='country3', y='value')\n",
    "    plt.title('Response Distribution by Country (Top 10)')\n",
    "    plt.xticks(rotation=45)\n",
    "    plt.xlabel('Country')\n",
    "    plt.ylabel('Response Value')\n",
    "    \n",
    "    # 4. Gender comparison\n",
    "    plt.subplot(2, 2, 3)\n",
    "    gender_means = df.iloc[:, :10].groupby(df['sex']).mean().T\n",
    "    gender_means.plot(kind='line', marker='o')\n",
    "    plt.title('Gender Comparison Across Questions')\n",
    "    plt.xlabel('Question Number')\n",
    "    plt.ylabel('Average Response')\n",
    "    plt.legend(title='Gender')\n",
    "    \n",
    "    plt.tight_layout()\n",
    "    \n",
    "    return fig"
   ]
  },
  {
   "cell_type": "code",
   "execution_count": null,
   "metadata": {},
   "outputs": [],
   "source": [
    "analyze_questionnaire(df1)"
   ]
  }
 ],
 "metadata": {
  "kernelspec": {
   "display_name": "Python 3",
   "language": "python",
   "name": "python3"
  },
  "language_info": {
   "codemirror_mode": {
    "name": "ipython",
    "version": 3
   },
   "file_extension": ".py",
   "mimetype": "text/x-python",
   "name": "python",
   "nbconvert_exporter": "python",
   "pygments_lexer": "ipython3",
   "version": "3.12.7"
  }
 },
 "nbformat": 4,
 "nbformat_minor": 2
}
