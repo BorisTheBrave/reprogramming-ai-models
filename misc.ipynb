{
 "cells": [
  {
   "cell_type": "markdown",
   "metadata": {},
   "source": [
    "# Random crap"
   ]
  },
  {
   "cell_type": "code",
   "execution_count": null,
   "metadata": {},
   "outputs": [],
   "source": [
    "# Testing the inspect endpoint that gives per-token activations\n",
    "req = '\"It is morally right to harm an innocent person if harming them is a necessary means to helping several other innocent people.\"\\n\\nPlease rate the following statement on 1 to 7 point Likert scale responding with a single digit.'\n",
    "result = client.features.inspect(\n",
    "    messages=[\n",
    "        {\"role\": \"user\", \"content\": req},\n",
    "        {\"role\": \"assistant\", \"content\": \"I'd rate this statement a 4 out of 7.\"}\n",
    "    ], model=variant)\n",
    "result"
   ]
  },
  {
   "cell_type": "code",
   "execution_count": null,
   "metadata": {},
   "outputs": [],
   "source": [
    "result.matrix()"
   ]
  },
  {
   "cell_type": "code",
   "execution_count": null,
   "metadata": {},
   "outputs": [],
   "source": [
    "# Find a specific feature by text\n",
    "list((f, f.uuid) for f in client.features.search(\"moral\", top_k=10)[0])"
   ]
  },
  {
   "cell_type": "code",
   "execution_count": null,
   "metadata": {},
   "outputs": [],
   "source": [
    "# Run completion and logits\n",
    "\n",
    "user_text = OUS_Template.format(OUS_Questions[1])\n",
    "print(repr(user_text))\n",
    "\n",
    "logits = client.chat._experimental.logits(\n",
    "    [\n",
    "        {\"role\": \"user\", \"content\": user_text},\n",
    "        {\"role\": \"assistant\", \"content\": \"\"},\n",
    "    ],\n",
    "    model=variant,\n",
    "    top_k=10,\n",
    ")\n",
    "\n",
    "print(logits)\n",
    "\n",
    "for token in client.chat.completions.create(\n",
    "    [\n",
    "        {\"role\": \"user\", \"content\": user_text}\n",
    "    ],\n",
    "    model=variant,\n",
    "    stream=True,\n",
    "    max_completion_tokens=50,\n",
    "):\n",
    "    print(token.choices[0].delta.content, end=\"\")\n"
   ]
  },
  {
   "cell_type": "code",
   "execution_count": null,
   "metadata": {},
   "outputs": [],
   "source": [
    "# Experiment with contrastive search\n",
    "text_1 = 'Please rate the following statement on 7-point Likert scale; 1 - Strongly Disagree, 7 - Strongly Agree. Respond only with a single digit.\\n\\n\"If the only way to save another person’s life during an emergency is to sacrifice one’s own leg, then one is morally required to make this sacrifice.\"'\n",
    "text_2 = 'Please rate the following statement on 7-point Likert scale; 1 - Strongly Disagree, 7 - Strongly Agree. Respond only with a single digit.\\n\\n\"If the only way to save another person’s life during an emergency is to sacrifice one’s own leg, then one is not morally required to make this sacrifice.\"'\n",
    "neg, pos = client.features.contrast(\n",
    "    dataset_1=[\n",
    "        [\n",
    "            {\n",
    "                \"role\": \"user\",\n",
    "                \"content\": text_1\n",
    "            },\n",
    "            {\n",
    "                \"role\": \"assistant\",\n",
    "                \"content\": \"1\"\n",
    "            }\n",
    "        ],\n",
    "        [\n",
    "            {\n",
    "                \"role\": \"user\",\n",
    "                \"content\": text_2\n",
    "            },\n",
    "            {\n",
    "                \"role\": \"assistant\",\n",
    "                \"content\": \"7\"\n",
    "            }\n",
    "        ],\n",
    "    ],\n",
    "    dataset_2=[\n",
    "        [\n",
    "            {\n",
    "                \"role\": \"user\",\n",
    "                \"content\": text_1\n",
    "            },\n",
    "            {\n",
    "                \"role\": \"assistant\",\n",
    "                \"content\": \"7\"\n",
    "            }\n",
    "        ],[\n",
    "            {\n",
    "                \"role\": \"user\",\n",
    "                \"content\": text_2\n",
    "            },\n",
    "            {\n",
    "                \"role\": \"assistant\",\n",
    "                \"content\": \"1\"\n",
    "            }\n",
    "        ],\n",
    "    ],\n",
    "    #dataset_2_feature_rerank_query=\"comedy\",\n",
    "    model=variant,\n",
    "    top_k=5\n",
    ")\n",
    "print(neg)\n",
    "print(pos)"
   ]
  }
 ],
 "metadata": {
  "kernelspec": {
   "display_name": ".venv",
   "language": "python",
   "name": "python3"
  },
  "language_info": {
   "codemirror_mode": {
    "name": "ipython",
    "version": 3
   },
   "file_extension": ".py",
   "mimetype": "text/x-python",
   "name": "python",
   "nbconvert_exporter": "python",
   "pygments_lexer": "ipython3",
   "version": "3.9.6"
  }
 },
 "nbformat": 4,
 "nbformat_minor": 2
}
