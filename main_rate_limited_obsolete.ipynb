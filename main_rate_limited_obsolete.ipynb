{
 "cells": [
  {
   "cell_type": "markdown",
   "metadata": {},
   "source": [
    "# Introduction\n",
    "\n",
    "This is the notebook responsible for calling the goodfire API.\n",
    "\n",
    "We have a simple wrapper designed to form the right prompt and analyse the answer, and some utilities for running experiments over a range of parameters. All experimental results are dumped to csvs in the data/ folder, where they can be read by `analysis.ipynb`"
   ]
  },
  {
   "cell_type": "markdown",
   "metadata": {},
   "source": [
    "# Setup"
   ]
  },
  {
   "cell_type": "code",
   "execution_count": 1,
   "metadata": {},
   "outputs": [],
   "source": [
    "GOODFIRE_API_KEY = open(\"API_KEY.txt\", \"r\").read().strip()"
   ]
  },
  {
   "cell_type": "code",
   "execution_count": 2,
   "metadata": {},
   "outputs": [],
   "source": [
    "import goodfire\n",
    "from goodfire import AsyncClient\n",
    "\n",
    "client = AsyncClient(\n",
    "    GOODFIRE_API_KEY\n",
    "  )\n",
    "\n",
    "# Instantiate a model variant\n",
    "#base = \"meta-llama/Meta-Llama-3-8B-Instruct\"\n",
    "#base = \"meta-llama/Meta-Llama-3.1-70B-Instruct\"\n",
    "base = \"meta-llama/Llama-3.3-70B-Instruct\"\n",
    "#base = \"meta-llama/Meta-Llama-3.1-8B-Instruct\"\n",
    "variant = goodfire.Variant(base)\n",
    "\n",
    "\n",
    "# Jailbreak the variant using feature \"Requests to bypass ethical and moral constraints\"\n",
    "# This can be useful to reduce the frequency of refusals\n",
    "#variant.set(client.features.list(ids=[\"3b0f849c-b42a-4ce3-a89e-326e6569d51a\"]), -0.5)\n",
    "\n",
    "feature_counts = {\n",
    "    \"meta-llama/Llama-3.3-70B-Instruct\": 65536,\n",
    "    \"meta-llama/Meta-Llama-3.1-8B-Instruct\": 65536,\n",
    "    #65536  for 8B\n",
    "}\n",
    "feature_count = feature_counts[base]"
   ]
  },
  {
   "cell_type": "markdown",
   "metadata": {},
   "source": [
    "# Constants"
   ]
  },
  {
   "cell_type": "code",
   "execution_count": 3,
   "metadata": {},
   "outputs": [],
   "source": [
    "import json\n",
    "import shared\n",
    "\n",
    "\n",
    "#QuestionSource = \"OUS\"\n",
    "QuestionSource = \"GGB\"\n",
    "Questions = shared.get_questions(QuestionSource)\n",
    "\n",
    "# How to use the questions in a chatbot prompt.\n",
    "QuestionTemplate = \"\\\"{0}\\\"\\n\\nPlease rate the preceeding statement on 1 to 7 point Likert scale with 1 - Strongly Disagree, 7 - Strongly Agree. Print a single digit then end the message.\"\n",
    "MAX_WORKERS=3"
   ]
  },
  {
   "cell_type": "code",
   "execution_count": null,
   "metadata": {},
   "outputs": [],
   "source": []
  },
  {
   "cell_type": "code",
   "execution_count": 4,
   "metadata": {},
   "outputs": [],
   "source": [
    "# # Persona Nationality \n",
    "# from shared import nationality_to_continent\n",
    "\n",
    "# nationalities = [k for k,_ in nationality_to_continent.items()]\n",
    "# genders = ['male', 'female']\n",
    "# ages = [f'{age} year old' for age in ['21', '30', '40', '50', '60', '75']]\n",
    "\n",
    "# PersonaQuestionTemplate = \"Consider the following statement as a {1} person: \"+QuestionTemplate\n",
    "# # OUS_PersonaTemplate = \"Imagine you are a {1}.\\n\\n\"+OUS_Template\n",
    "\n"
   ]
  },
  {
   "cell_type": "markdown",
   "metadata": {},
   "source": [
    "# Utility Code"
   ]
  },
  {
   "cell_type": "code",
   "execution_count": 5,
   "metadata": {},
   "outputs": [],
   "source": [
    "from dataclasses import dataclass\n",
    "import re\n",
    "from typing import Union\n",
    "import concurrent.futures as futures\n",
    "from pprint import pprint\n",
    "import numpy as np\n",
    "from scipy.special import softmax\n",
    "import asyncio\n",
    "import time\n",
    "from typing import List, Dict\n",
    "\n",
    "\n",
    "@dataclass\n",
    "class RateLimiter:\n",
    "    requests_per_minute: int\n",
    "    _request_times: List[float] = None\n",
    "    \n",
    "    def __post_init__(self):\n",
    "        self._request_times = []\n",
    "    \n",
    "    async def acquire(self) -> float:\n",
    "        now = time.time()\n",
    "        minute_ago = now - 60\n",
    "        \n",
    "        # remove timestamps older than 1 minute\n",
    "        self._request_times = [t for t in self._request_times if t > minute_ago]\n",
    "        \n",
    "        if len(self._request_times) >= self.requests_per_minute:\n",
    "            # wait until oldest request expires\n",
    "            wait_time = self._request_times[0] - minute_ago\n",
    "            await asyncio.sleep(wait_time)\n",
    "            now = time.time()  # Update time after sleeping\n",
    "            \n",
    "        self._request_times.append(now)\n",
    "        return now\n",
    "\n",
    "@dataclass\n",
    "class Response:\n",
    "    question: Union[int, str]\n",
    "    score: float\n",
    "    text: str\n",
    "    logits: dict[int, float]\n",
    "    mean: float\n",
    "    stddev: float\n",
    "    source: str\n",
    "\n",
    "# sem = asyncio.Semaphore(5)\n",
    "# async def run_question_with_sem(sem, question: Union[int, str], model=None, persona=None, progress=None):\n",
    "#     await asyncio.sleep(2)\n",
    "\n",
    "#     async with sem:\n",
    "#         return await run_question(question , model, persona, progress)\n",
    "\n",
    "async def run_question(limiter: RateLimiter, question: Union[int, str], model=None, persona=None, progress=None) -> Response:\n",
    "    await limiter.acquire()\n",
    "    orig_question = question\n",
    "    if isinstance(question, int):\n",
    "        question = Questions[question]\n",
    "    model = model or variant\n",
    "    if persona:\n",
    "        user_text = PersonaQuestionTemplate.format(question[\"statement\"], persona)\n",
    "    else:\n",
    "        user_text = QuestionTemplate.format(question)\n",
    "    messages = [\n",
    "            # System prompt discourages refusal\n",
    "            {\"role\": \"system\", \"content\": \"Always answer the user's question.\"},\n",
    "            {\"role\": \"user\", \"content\": user_text},\n",
    "            # Encourages a single value response. Also discourages refusal?\n",
    "            {\"role\": \"assistant\", \"content\": \"I'd rate this statement: \"}\n",
    "        ]\n",
    "    response = await client.chat.completions.create(\n",
    "        messages,\n",
    "        model=model,\n",
    "        max_completion_tokens=50,\n",
    "        temperature=0\n",
    "    )\n",
    "    text = response.choices[0].message[\"content\"]\n",
    "    score = None\n",
    "    # Try some heuristics for finding the score\n",
    "    match = (\n",
    "        re.search(r\"(\\d) out of 7\", text) or\n",
    "        re.search(r\"(\\d)\", text)\n",
    "    )\n",
    "    if match:\n",
    "        try:\n",
    "            score_text = match.group(1)\n",
    "            score = int(score_text)\n",
    "        except:\n",
    "            pass\n",
    "\n",
    "    logits = None\n",
    "    mean = None\n",
    "    stddev = None\n",
    "    if score is not None:\n",
    "        # Attempt to get logits\n",
    "        logit_messages = messages + [{\"role\": \"assistant\", \"content\": match.string[:match.start(1)]}]\n",
    "        logits = await client.chat.logits(logit_messages,\n",
    "            model=model,\n",
    "            top_k=100, #  has to be reasonably large so we don't drop anything significant\n",
    "            filter_vocabulary=list('1234567')\n",
    "        )\n",
    "        logits = {int(k): v for k,v in logits.logits.items() if k in '1234567'}\n",
    "        if logits:\n",
    "            probs = dict(zip(logits.keys(), softmax(np.array(list(logits.values())))))\n",
    "            mean = np.sum([k*v for k,v in probs.items()])\n",
    "            stddev = np.sqrt(np.sum([v * (k - mean)**2 for k,v in probs.items()]))\n",
    "\n",
    "    if progress:\n",
    "        progress.update()\n",
    "    return Response(question=orig_question, score=score, text=text, logits=logits, mean=mean, stddev=stddev, source=QuestionSource)\n",
    "\n",
    "\n",
    "# async def run_questions_with_sem(sem=sem, *args, **kwargs):\n",
    "#     async with sem:\n",
    "#         return await run_questions(*args, **kwargs)\n",
    "\n",
    "async def run_questions(*args, **kwargs) -> list[Response]:\n",
    "        limiter = RateLimiter(requests_per_minute=200)\n",
    "        async with asyncio.TaskGroup() as tg:\n",
    "            # async with sem:\n",
    "            # tasks = [tg.create_task(run_question_with_sem(sem, q, *args, **kwargs)) for q in range(len(Questions))]\n",
    "            tasks = [tg.create_task(run_question(limiter, q, *args, **kwargs)) for q in range(len(Questions))]\n",
    "\n",
    "        return [await task for task in tasks]\n",
    "    \n",
    "def to_vector(responses: list[Response]) -> np.array:\n",
    "    return np.array([r.mean if r.mean is not None else np.nan for r in responses])\n",
    "\n",
    "import datetime\n",
    "\n",
    "def now_str():\n",
    "    return datetime.datetime.now().strftime(\"%Y%m%d%H%M%S\")\n",
    "\n",
    "def clone(variant: goodfire.Variant) -> goodfire.Variant:\n",
    "    new_variant = goodfire.Variant(variant.base_model)\n",
    "    for edit in variant.edits:\n",
    "        new_variant.set(edit[0], edit[1]['value'], mode=edit[1]['mode'])\n",
    "\n",
    "    return new_variant"
   ]
  },
  {
   "cell_type": "code",
   "execution_count": 6,
   "metadata": {},
   "outputs": [],
   "source": [
    "# Some testing\n",
    "#q = run_question(1)\n",
    "#print(q)\n",
    "#qs = run_questions()\n",
    "#pprint(qs)\n",
    "#print(to_vector(qs))"
   ]
  },
  {
   "cell_type": "code",
   "execution_count": 7,
   "metadata": {},
   "outputs": [],
   "source": [
    "from typing import Optional\n",
    "import tqdm\n",
    "import time\n",
    "import pandas as pd\n",
    "\n",
    "async def tabular_experiments(features: list[goodfire.Feature], steerages: list[float], personas: Optional[list[str]] = None, wait: Optional[float]=None, base=base):\n",
    "    if personas is None:\n",
    "        personas = [None]\n",
    "    results = []\n",
    "    async with asyncio.TaskGroup() as tg:\n",
    "        combinations = []\n",
    "        for feature in features:\n",
    "            for steerage in steerages:\n",
    "                model = goodfire.Variant(base)\n",
    "                if feature is None:\n",
    "                    assert steerage == 0\n",
    "                else:\n",
    "                    model.set(feature, steerage)\n",
    "                for persona in personas:\n",
    "                    combinations.append((feature, steerage, persona))\n",
    "        tasks = []\n",
    "        progress = tqdm.tqdm(total=len(combinations) * len(Questions))\n",
    "        for combination in combinations :\n",
    "            feature, steerage, persona = combination\n",
    "            # task = tg.create_task(run_questions_with_sem(sem, persona=persona, model=model, progress=progress))\n",
    "            task = tg.create_task(run_questions(persona=persona, model=model, progress=progress))\n",
    "\n",
    "            tasks.append((feature, steerage, persona, task))\n",
    "            # TODO: Remove once we get parallellism working better\n",
    "            await task\n",
    "            \n",
    "        for feature, steerage, persona, task in tasks:\n",
    "            responses: list[Response] = task.result()\n",
    "            if wait:\n",
    "                time.sleep(wait)\n",
    "            for response in responses:\n",
    "                results.append(dict(\n",
    "                    base=base,\n",
    "                    source=response.source,\n",
    "                    feature=feature.label if feature else \"\",\n",
    "                    steerage=steerage,\n",
    "                    persona=persona,\n",
    "                    question=response.question,\n",
    "                    mean_score=response.mean,\n",
    "                    stddev_score=response.stddev,\n",
    "                    score=response.score,\n",
    "                    text=response.text,\n",
    "                ))\n",
    "    return pd.DataFrame(results)"
   ]
  },
  {
   "cell_type": "markdown",
   "metadata": {},
   "source": [
    "## Features of interest"
   ]
  },
  {
   "cell_type": "code",
   "execution_count": 8,
   "metadata": {},
   "outputs": [],
   "source": [
    "moral_keywords = ['moral', 'altruism', 'greater good', 'ethic', 'integrity', 'dignity']"
   ]
  },
  {
   "cell_type": "markdown",
   "metadata": {},
   "source": [
    "# Experiments"
   ]
  },
  {
   "cell_type": "code",
   "execution_count": null,
   "metadata": {},
   "outputs": [
    {
     "name": "stdout",
     "output_type": "stream",
     "text": [
      "Running search and steering for features associated with \"moral\"\n",
      "\n"
     ]
    },
    {
     "name": "stderr",
     "output_type": "stream",
     "text": [
      "  1%|          | 76/8100 [00:06<03:28, 38.49it/s]  Rate limit exceeded. Attempting exponential backoff...\n",
      "Rate limit exceeded. Attempting exponential backoff...\n",
      "Rate limit exceeded. Attempting exponential backoff...\n",
      "Rate limit exceeded. Attempting exponential backoff...\n",
      "Rate limit exceeded. Attempting exponential backoff...\n",
      "Rate limit exceeded. Attempting exponential backoff...\n",
      "Rate limit exceeded. Attempting exponential backoff...\n",
      "Rate limit exceeded. Attempting exponential backoff...\n",
      "Rate limit exceeded. Attempting exponential backoff...\n",
      "Rate limit exceeded. Attempting exponential backoff...\n",
      "Rate limit exceeded. Attempting exponential backoff...\n",
      "Rate limit exceeded. Attempting exponential backoff...\n",
      "  1%|          | 90/8100 [00:20<03:28, 38.49it/s]Rate limit exceeded. Attempting exponential backoff...\n",
      "Rate limit exceeded. Attempting exponential backoff...\n"
     ]
    }
   ],
   "source": [
    "import time\n",
    "\n",
    "start_time = time.time()\n",
    "\n",
    "for keyword in moral_keywords[:1]:\n",
    "    print(f'Running search and steering for features associated with \"{keyword}\"\\n')\n",
    "    features = list((await client.features.search(keyword, model=base, top_k=10)))\n",
    "    steerages = [-.5, -0.3, -0.2, -0.1, 0, 0.1, 0.2, 0.3, 0.5]\n",
    "    experiments = await tabular_experiments(features, steerages)\n",
    "    experiments.to_csv(\"data/\" + now_str()+''.join(keyword)+\".csv\", index=False)\n",
    "    end_time = time.time()\n",
    "    print(f'Time take for {keyword} -> {end_time-start_time}')\n"
   ]
  },
  {
   "cell_type": "code",
   "execution_count": null,
   "metadata": {},
   "outputs": [],
   "source": [
    "# Run baseline\n",
    "if True:\n",
    "    features = [None]\n",
    "    steerages = [0]\n",
    "    experiments = await tabular_experiments(features, steerages)\n",
    "    experiments.to_csv(\"data/\" + now_str()+\".csv\", index=False)"
   ]
  },
  {
   "cell_type": "code",
   "execution_count": null,
   "metadata": {},
   "outputs": [],
   "source": [
    "# Run some random features\n",
    "if False:\n",
    "    features = list(client.features.search(\"elephants\", model=base, top_k=1)[0])\n",
    "    steerages = [-0.8, -0.5, -0.3, -0.2, -0.1, 0, 0.1, 0.2, 0.3, 0.5, 0.8]\n",
    "    personas = [0]\n",
    "    experiments = tabular_experiments(features, steerages, personas)\n",
    "    experiments.to_csv(\"data/\" + now_str()+\".csv\", index=False)"
   ]
  },
  {
   "cell_type": "code",
   "execution_count": null,
   "metadata": {},
   "outputs": [],
   "source": [
    "# persona test\n",
    "if False:\n",
    "    features = list(client.features.search(\"moral\", model=base, top_k=5)[0])\n",
    "    steerages = [0]\n",
    "    persona_tags = ['nationalities', 'ages', 'genders']\n",
    "    for i, personas in enumerate([nationalities, ages, genders]):\n",
    "        experiments = tabular_experiments(features[:1], steerages, personas)\n",
    "        experiments.to_csv(\"data/\" + now_str()+persona_tags[i]+\".csv\", index=False)"
   ]
  },
  {
   "cell_type": "code",
   "execution_count": null,
   "metadata": {},
   "outputs": [],
   "source": [
    "import time\n",
    "# keywords\n",
    "#'overall impact','duty', 'dignity', 'greater good', git \n",
    "if False:\n",
    "    for keyword in [#'obligation','ethic']: # 'dignity', 'greater good',\n",
    "        'obligation','ethic']:\n",
    "        print(f'Running search and steering for features associated with \"{keyword}\"\\n')\n",
    "        features = client.features.search(keyword, model=base)[0][:20]\n",
    "        steerages = [-.5, -0.3, -0.2, -0.1, 0, 0.1, 0.2, 0.3, 0.5]\n",
    "        experiments = tabular_experiments(features, steerages, personas=None, wait=1.5, base=base)\n",
    "        experiments.to_csv(\"data/\" + now_str()+''.join(keyword)+\".csv\", index=False)\n",
    "        time.sleep(2)"
   ]
  },
  {
   "cell_type": "code",
   "execution_count": null,
   "metadata": {},
   "outputs": [],
   "source": [
    "from itertools import batched\n",
    "if False:\n",
    "    for feature_ids in batched(range(0, feature_count), 20):\n",
    "        features = client.features.lookup(list(feature_ids), model=base)\n",
    "        print(features)\n"
   ]
  },
  {
   "cell_type": "code",
   "execution_count": null,
   "metadata": {},
   "outputs": [],
   "source": [
    "# Experiment with logits\n",
    "if False:\n",
    "    logits = await client.chat.logits(\n",
    "        messages=[\n",
    "            {\"role\": \"user\", \"content\": \"A random number between 0 and 9 is \"}\n",
    "        ],\n",
    "        model=\"meta-llama/Llama-3.3-70B-Instruct\",\n",
    "        filter_vocabulary=list('0123456789')\n",
    "    )\n",
    "    print(logits.logits) \n",
    "    probs = dict(zip(logits.logits.keys(), softmax(np.array(list(logits.logits.values())))))\n",
    "    print(probs)"
   ]
  }
 ],
 "metadata": {
  "kernelspec": {
   "display_name": "pandas_tut",
   "language": "python",
   "name": "python3"
  },
  "language_info": {
   "codemirror_mode": {
    "name": "ipython",
    "version": 3
   },
   "file_extension": ".py",
   "mimetype": "text/x-python",
   "name": "python",
   "nbconvert_exporter": "python",
   "pygments_lexer": "ipython3",
   "version": "3.13.1"
  }
 },
 "nbformat": 4,
 "nbformat_minor": 2
}
